{
 "cells": [
  {
   "cell_type": "code",
   "execution_count": 1,
   "id": "92adf5bb",
   "metadata": {},
   "outputs": [],
   "source": [
    "import sys\n",
    "import os\n",
    "current_dir = os.getcwd()\n",
    "src_path = os.path.join(current_dir, '..', 'scripts')\n",
    "if os.path.exists(src_path):\n",
    "    sys.path.append(src_path)\n",
    "else:\n",
    "    # Try alternative path structure\n",
    "    alt_src_path = os.path.join(current_dir, 'scripts')\n",
    "    if os.path.exists(alt_src_path):\n",
    "        sys.path.append(alt_src_path)\n",
    "    else:\n",
    "        print(\"Warning: Could not find src directory. Please ensure the path is correct.\")\n"
   ]
  },
  {
   "cell_type": "code",
   "execution_count": 2,
   "id": "28f675dd",
   "metadata": {},
   "outputs": [],
   "source": [
    "# Import the demo script\n",
    "from demo_embedding_indexing import (\n",
    "    load_chunked_data,\n",
    "    demo_embedding_model,\n",
    "    demo_indexing_pipeline,\n",
    "    demo_search_functionality\n",
    ")\n"
   ]
  },
  {
   "cell_type": "code",
   "execution_count": 4,
   "id": "5b28a618",
   "metadata": {},
   "outputs": [
    {
     "name": "stdout",
     "output_type": "stream",
     "text": [
      "\n",
      "=== Integration Demo: Loading Complaints Data ===\n",
      "Loading data in chunks of 100000 rows...\n"
     ]
    },
    {
     "name": "stderr",
     "output_type": "stream",
     "text": [
      "INFO:text_chunking:Successfully chunked narrative into 3 chunks\n",
      "INFO:text_chunking:Successfully chunked narrative into 6 chunks\n",
      "INFO:text_chunking:Successfully chunked narrative into 10 chunks\n",
      "INFO:text_chunking:Successfully chunked narrative into 20 chunks\n",
      "INFO:text_chunking:Successfully chunked narrative into 7 chunks\n",
      "INFO:text_chunking:Successfully chunked narrative into 5 chunks\n",
      "INFO:text_chunking:Successfully chunked narrative into 8 chunks\n",
      "INFO:text_chunking:Successfully chunked narrative into 27 chunks\n",
      "INFO:text_chunking:Successfully chunked narrative into 1 chunks\n",
      "INFO:text_chunking:Successfully chunked narrative into 18 chunks\n",
      "INFO:text_chunking:Successfully chunked narrative into 3 chunks\n",
      "INFO:text_chunking:Successfully chunked narrative into 2 chunks\n",
      "INFO:text_chunking:Successfully chunked narrative into 7 chunks\n",
      "INFO:text_chunking:Successfully chunked narrative into 2 chunks\n",
      "INFO:text_chunking:Successfully chunked narrative into 6 chunks\n",
      "INFO:text_chunking:Successfully chunked narrative into 5 chunks\n",
      "INFO:text_chunking:Successfully chunked narrative into 10 chunks\n",
      "INFO:text_chunking:Successfully chunked narrative into 18 chunks\n",
      "INFO:text_chunking:Successfully chunked narrative into 12 chunks\n",
      "INFO:text_chunking:Successfully chunked narrative into 6 chunks\n",
      "INFO:text_chunking:Successfully chunked narrative into 5 chunks\n",
      "INFO:text_chunking:Successfully chunked narrative into 11 chunks\n",
      "INFO:text_chunking:Successfully chunked narrative into 20 chunks\n",
      "INFO:text_chunking:Successfully chunked narrative into 7 chunks\n",
      "INFO:text_chunking:Successfully chunked narrative into 18 chunks\n",
      "INFO:text_chunking:Successfully chunked narrative into 4 chunks\n",
      "INFO:text_chunking:Successfully chunked narrative into 6 chunks\n",
      "INFO:text_chunking:Successfully chunked narrative into 17 chunks\n",
      "INFO:text_chunking:Successfully chunked narrative into 6 chunks\n",
      "INFO:text_chunking:Successfully chunked narrative into 5 chunks\n",
      "INFO:text_chunking:Successfully chunked narrative into 11 chunks\n",
      "INFO:text_chunking:Successfully chunked narrative into 6 chunks\n",
      "INFO:text_chunking:Successfully chunked narrative into 10 chunks\n",
      "INFO:text_chunking:Successfully chunked narrative into 6 chunks\n",
      "INFO:text_chunking:Successfully chunked narrative into 4 chunks\n",
      "INFO:text_chunking:Successfully chunked narrative into 1 chunks\n",
      "INFO:text_chunking:Successfully chunked narrative into 4 chunks\n",
      "INFO:text_chunking:Successfully chunked narrative into 5 chunks\n",
      "INFO:text_chunking:Successfully chunked narrative into 20 chunks\n",
      "INFO:text_chunking:Successfully chunked narrative into 3 chunks\n",
      "INFO:text_chunking:Successfully chunked narrative into 2 chunks\n",
      "INFO:text_chunking:Successfully chunked narrative into 7 chunks\n",
      "INFO:text_chunking:Successfully chunked narrative into 2 chunks\n",
      "INFO:text_chunking:Successfully chunked narrative into 5 chunks\n",
      "INFO:text_chunking:Successfully chunked narrative into 3 chunks\n",
      "INFO:text_chunking:Successfully chunked narrative into 8 chunks\n",
      "INFO:text_chunking:Successfully chunked narrative into 3 chunks\n",
      "INFO:text_chunking:Successfully chunked narrative into 4 chunks\n",
      "INFO:text_chunking:Successfully chunked narrative into 9 chunks\n",
      "INFO:text_chunking:Successfully chunked narrative into 10 chunks\n",
      "INFO:text_chunking:Successfully chunked narrative into 9 chunks\n",
      "INFO:text_chunking:Successfully chunked narrative into 1 chunks\n",
      "INFO:text_chunking:Successfully chunked narrative into 12 chunks\n",
      "INFO:text_chunking:Successfully chunked narrative into 1 chunks\n",
      "INFO:text_chunking:Successfully chunked narrative into 6 chunks\n",
      "INFO:text_chunking:Successfully chunked narrative into 6 chunks\n",
      "INFO:text_chunking:Successfully chunked narrative into 14 chunks\n",
      "INFO:text_chunking:Successfully chunked narrative into 8 chunks\n",
      "INFO:text_chunking:Successfully chunked narrative into 5 chunks\n",
      "INFO:text_chunking:Successfully chunked narrative into 2 chunks\n",
      "INFO:text_chunking:Successfully chunked narrative into 15 chunks\n",
      "INFO:text_chunking:Successfully chunked narrative into 11 chunks\n",
      "INFO:text_chunking:Successfully chunked narrative into 12 chunks\n",
      "INFO:text_chunking:Successfully chunked narrative into 4 chunks\n",
      "INFO:text_chunking:Successfully chunked narrative into 16 chunks\n",
      "INFO:text_chunking:Successfully chunked narrative into 6 chunks\n",
      "INFO:text_chunking:Successfully chunked narrative into 27 chunks\n",
      "INFO:text_chunking:Successfully chunked narrative into 7 chunks\n",
      "INFO:text_chunking:Successfully chunked narrative into 9 chunks\n",
      "INFO:text_chunking:Successfully chunked narrative into 3 chunks\n",
      "INFO:text_chunking:Successfully chunked narrative into 3 chunks\n",
      "INFO:text_chunking:Successfully chunked narrative into 3 chunks\n",
      "INFO:text_chunking:Successfully chunked narrative into 11 chunks\n",
      "INFO:text_chunking:Successfully chunked narrative into 5 chunks\n",
      "INFO:text_chunking:Successfully chunked narrative into 3 chunks\n",
      "INFO:text_chunking:Successfully chunked narrative into 16 chunks\n",
      "INFO:text_chunking:Successfully chunked narrative into 14 chunks\n",
      "INFO:text_chunking:Successfully chunked narrative into 8 chunks\n",
      "INFO:text_chunking:Successfully chunked narrative into 14 chunks\n",
      "INFO:text_chunking:Successfully chunked narrative into 3 chunks\n",
      "INFO:text_chunking:Successfully chunked narrative into 4 chunks\n",
      "INFO:text_chunking:Successfully chunked narrative into 3 chunks\n",
      "INFO:text_chunking:Successfully chunked narrative into 2 chunks\n",
      "INFO:text_chunking:Successfully chunked narrative into 5 chunks\n",
      "INFO:text_chunking:Successfully chunked narrative into 8 chunks\n",
      "INFO:text_chunking:Successfully chunked narrative into 3 chunks\n",
      "INFO:text_chunking:Successfully chunked narrative into 4 chunks\n",
      "INFO:text_chunking:Successfully chunked narrative into 1 chunks\n",
      "INFO:text_chunking:Successfully chunked narrative into 11 chunks\n",
      "INFO:text_chunking:Successfully chunked narrative into 2 chunks\n",
      "INFO:text_chunking:Successfully chunked narrative into 13 chunks\n",
      "INFO:text_chunking:Successfully chunked narrative into 22 chunks\n",
      "INFO:text_chunking:Successfully chunked narrative into 22 chunks\n",
      "INFO:text_chunking:Successfully chunked narrative into 9 chunks\n",
      "INFO:text_chunking:Successfully chunked narrative into 2 chunks\n",
      "INFO:text_chunking:Successfully chunked narrative into 5 chunks\n",
      "INFO:text_chunking:Successfully chunked narrative into 40 chunks\n"
     ]
    },
    {
     "name": "stdout",
     "output_type": "stream",
     "text": [
      "Loaded 100 complaints\n",
      "\n",
      "=== Integration Demo: Chunking Narratives ===\n",
      "\n",
      "=== Step 2: Text Chunking ===\n",
      "Chunking 100 narratives...\n"
     ]
    },
    {
     "name": "stderr",
     "output_type": "stream",
     "text": [
      "INFO:text_chunking:Successfully chunked narrative into 14 chunks\n",
      "INFO:text_chunking:Successfully chunked narrative into 9 chunks\n",
      "INFO:text_chunking:Successfully chunked narrative into 10 chunks\n",
      "INFO:text_chunking:Successfully processed 841 chunks from 100 narratives\n"
     ]
    },
    {
     "name": "stdout",
     "output_type": "stream",
     "text": [
      "Created 841 chunks in 0.21s\n"
     ]
    },
    {
     "name": "stderr",
     "output_type": "stream",
     "text": [
      "INFO:sentence_transformers.SentenceTransformer:Use pytorch device_name: cpu\n",
      "INFO:sentence_transformers.SentenceTransformer:Load pretrained SentenceTransformer: sentence-transformers/all-MiniLM-L6-v2\n"
     ]
    },
    {
     "name": "stdout",
     "output_type": "stream",
     "text": [
      "\n",
      "=== Integration Demo: Creating Embeddings and Index ===\n",
      "\n",
      "=== Step 3: Embedding Generation and Indexing ===\n",
      "Initializing embedding model: sentence-transformers/all-MiniLM-L6-v2\n"
     ]
    },
    {
     "data": {
      "application/vnd.jupyter.widget-view+json": {
       "model_id": "dfd82ca5a28b4732975ca1c8fa25faf3",
       "version_major": 2,
       "version_minor": 0
      },
      "text/plain": [
       "Batches:   0%|          | 0/1 [00:00<?, ?it/s]"
      ]
     },
     "metadata": {},
     "output_type": "display_data"
    },
    {
     "name": "stderr",
     "output_type": "stream",
     "text": [
      "INFO:embedding_indexing:Loaded model with 384 dimensions\n",
      "INFO:embedding_indexing:Initialized ComplaintEmbeddingIndexer with model: sentence-transformers/all-MiniLM-L6-v2\n"
     ]
    },
    {
     "name": "stdout",
     "output_type": "stream",
     "text": [
      "Indexing 841 chunks...\n"
     ]
    },
    {
     "name": "stderr",
     "output_type": "stream",
     "text": [
      "INFO:embedding_indexing:Indexed 841 chunks in FAISS\n",
      "INFO:embedding_indexing:Saved FAISS index and metadata to vector_store\n"
     ]
    },
    {
     "name": "stdout",
     "output_type": "stream",
     "text": [
      "Successfully indexed chunks in 13.40s\n",
      "Collection: 841 chunks\n",
      "FAISS index and metadata saved to vector_store/\n"
     ]
    }
   ],
   "source": [
    "# Import the integration_demo script and call its functions\n",
    "\n",
    "from integration_demo import (\n",
    "    load_complaints_data,\n",
    "    chunk_narratives,\n",
    "    create_embeddings_and_index\n",
    ")\n",
    "\n",
    "print(\"\\n=== Integration Demo: Loading Complaints Data ===\")\n",
    "df, narrative_column = load_complaints_data()\n",
    "if df is not None and narrative_column is not None:\n",
    "    print(\"\\n=== Integration Demo: Chunking Narratives ===\")\n",
    "    chunked_narratives = chunk_narratives(df, narrative_column)\n",
    "    print(\"\\n=== Integration Demo: Creating Embeddings and Index ===\")\n",
    "    create_embeddings_and_index(chunked_narratives)\n",
    "else:\n",
    "    print(\"❌ Could not load complaints data for integration demo.\")\n"
   ]
  },
  {
   "cell_type": "code",
   "execution_count": null,
   "id": "532ad8b4",
   "metadata": {},
   "outputs": [],
   "source": []
  }
 ],
 "metadata": {
  "kernelspec": {
   "display_name": "Python 3",
   "language": "python",
   "name": "python3"
  },
  "language_info": {
   "codemirror_mode": {
    "name": "ipython",
    "version": 3
   },
   "file_extension": ".py",
   "mimetype": "text/x-python",
   "name": "python",
   "nbconvert_exporter": "python",
   "pygments_lexer": "ipython3",
   "version": "3.13.2"
  }
 },
 "nbformat": 4,
 "nbformat_minor": 5
}
